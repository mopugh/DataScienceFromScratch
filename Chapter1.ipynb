{
 "cells": [
  {
   "cell_type": "markdown",
   "metadata": {},
   "source": [
    "# Chapter 1: Introduction"
   ]
  },
  {
   "cell_type": "markdown",
   "metadata": {},
   "source": [
    "Motivating example: Data science social network."
   ]
  },
  {
   "cell_type": "markdown",
   "metadata": {},
   "source": [
    "## Finding Key Connectors"
   ]
  },
  {
   "cell_type": "code",
   "execution_count": 2,
   "metadata": {},
   "outputs": [],
   "source": [
    "users = [\n",
    "    {'id': 0, 'name': 'Hero'},\n",
    "    {'id': 1, 'name': 'Dunn'},\n",
    "    {'id': 2, 'name': 'Sue'},\n",
    "    {'id': 3, 'name': 'Chi'},\n",
    "    {'id': 4, 'name': 'Thor'},\n",
    "    {'id': 5, 'name': 'Clive'},\n",
    "    {'id': 6, 'name': 'Hicks'},\n",
    "    {'id': 7, 'name': 'Devin'},\n",
    "    {'id': 8, 'name': 'Kate'},\n",
    "    {'id': 9, 'name': 'Klein'},\n",
    "]"
   ]
  },
  {
   "cell_type": "code",
   "execution_count": 4,
   "metadata": {},
   "outputs": [],
   "source": [
    "# e.g. user 0 and 1 are friends\n",
    "friendship_pairs = [(0,1), (0,2), (1,2), (1,3), \n",
    "                    (2,3), (3,4), (4,5), (5,6),\n",
    "                    (5,7), (6,8), (7,8), (8,9)]"
   ]
  },
  {
   "cell_type": "code",
   "execution_count": 9,
   "metadata": {},
   "outputs": [
    {
     "data": {
      "text/plain": [
       "{0: [1, 2],\n",
       " 1: [0, 2, 3],\n",
       " 2: [0, 1, 3],\n",
       " 3: [1, 2, 4],\n",
       " 4: [3, 5],\n",
       " 5: [4, 6, 7],\n",
       " 6: [5, 8],\n",
       " 7: [5, 8],\n",
       " 8: [6, 7, 9],\n",
       " 9: [8]}"
      ]
     },
     "execution_count": 9,
     "metadata": {},
     "output_type": "execute_result"
    }
   ],
   "source": [
    "# Idea: create a dictionary listing friends of each user\n",
    "\n",
    "# Initialize the dict with an empty list for each user id:\n",
    "friendships = {user['id']: [] for user in users}\n",
    "\n",
    "# loop over the friendship pairs to populate it:\n",
    "for i, j in friendship_pairs:\n",
    "    friendships[i].append(j) # add j as a friend of user i\n",
    "    friendships[j].append(i) # add i as a friend of user j\n",
    "    \n",
    "friendships"
   ]
  },
  {
   "cell_type": "code",
   "execution_count": 10,
   "metadata": {},
   "outputs": [
    {
     "name": "stdout",
     "output_type": "stream",
     "text": [
      "24\n"
     ]
    }
   ],
   "source": [
    "# Question: what's the average number of connections\n",
    "\n",
    "# First find total number of connections\n",
    "def number_of_friends(user):\n",
    "    \"\"\"How many friends does _user_ have?\"\"\"\n",
    "    user_id = user['id']\n",
    "    friend_ids = friendships[user_id]\n",
    "    return len(friend_ids)\n",
    "\n",
    "total_connections = sum(number_of_friends(user) for user in users) #24\n",
    "print(total_connections)"
   ]
  },
  {
   "cell_type": "code",
   "execution_count": 11,
   "metadata": {},
   "outputs": [
    {
     "name": "stdout",
     "output_type": "stream",
     "text": [
      "2.4\n"
     ]
    }
   ],
   "source": [
    "# Then divide by the total number of users\n",
    "num_users = len(users)\n",
    "avg_connections = total_connections / num_users # 2.4\n",
    "print(avg_connections)"
   ]
  },
  {
   "cell_type": "code",
   "execution_count": 13,
   "metadata": {},
   "outputs": [
    {
     "name": "stdout",
     "output_type": "stream",
     "text": [
      "[(1, 3), (2, 3), (3, 3), (5, 3), (8, 3), (0, 2), (4, 2), (6, 2), (7, 2), (9, 1)]\n"
     ]
    }
   ],
   "source": [
    "# Sort by number of friends\n",
    "\n",
    "# Create a list of (user_id, number_of_friends)\n",
    "num_friends_by_id = [(user['id'], number_of_friends(user))\n",
    "                     for user in users]\n",
    "\n",
    "num_friends_by_id.sort(\n",
    "    key=lambda id_and_friends: id_and_friends[1], # by num_friends\n",
    "    reverse=True # largest to smallest\n",
    ")\n",
    "\n",
    "print(num_friends_by_id)"
   ]
  },
  {
   "cell_type": "markdown",
   "metadata": {},
   "source": [
    "Compute the metric *degree centrality* above."
   ]
  },
  {
   "cell_type": "markdown",
   "metadata": {},
   "source": [
    "## Data Scientists You May Know"
   ]
  },
  {
   "cell_type": "code",
   "execution_count": null,
   "metadata": {},
   "outputs": [],
   "source": []
  }
 ],
 "metadata": {
  "kernelspec": {
   "display_name": "Python [conda env:pytorch_env] *",
   "language": "python",
   "name": "conda-env-pytorch_env-py"
  },
  "language_info": {
   "codemirror_mode": {
    "name": "ipython",
    "version": 3
   },
   "file_extension": ".py",
   "mimetype": "text/x-python",
   "name": "python",
   "nbconvert_exporter": "python",
   "pygments_lexer": "ipython3",
   "version": "3.7.5"
  }
 },
 "nbformat": 4,
 "nbformat_minor": 2
}
