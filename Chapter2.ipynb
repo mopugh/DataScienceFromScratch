{
 "cells": [
  {
   "cell_type": "markdown",
   "id": "sorted-austria",
   "metadata": {},
   "source": [
    "# Chapter 2: A Crash Course in Python"
   ]
  },
  {
   "cell_type": "markdown",
   "id": "suspected-suffering",
   "metadata": {},
   "source": [
    "## Truthiness"
   ]
  },
  {
   "cell_type": "markdown",
   "id": "received-celtic",
   "metadata": {},
   "source": [
    "The follwoing are 'falsy':\n",
    "* `False`\n",
    "* `None`\n",
    "* `[]` (empty list)\n",
    "* `{}` (empty dictionary)\n",
    "* `\"\"`\n",
    "* `set()` \n",
    "* `0`\n",
    "* `0.0`"
   ]
  },
  {
   "cell_type": "markdown",
   "id": "prescribed-effectiveness",
   "metadata": {},
   "source": [
    "`all()` and `any()` function"
   ]
  },
  {
   "cell_type": "markdown",
   "id": "particular-accident",
   "metadata": {},
   "source": [
    "## Sorting"
   ]
  },
  {
   "cell_type": "markdown",
   "id": "original-emergency",
   "metadata": {},
   "source": [
    "`sort()` method sorts in place. `sorted()` function returns a sorted list. Can specify order with `reverse` keyword and `key` keyword (specifies a function to order the values)."
   ]
  },
  {
   "cell_type": "markdown",
   "id": "canadian-mother",
   "metadata": {},
   "source": [
    "## Object-Oriented Programming"
   ]
  },
  {
   "cell_type": "markdown",
   "id": "atlantic-messenger",
   "metadata": {},
   "source": [
    "Defined *classes* to encapsulate data and the functions that operate on them."
   ]
  },
  {
   "cell_type": "code",
   "execution_count": 15,
   "id": "central-standing",
   "metadata": {},
   "outputs": [],
   "source": [
    "class CountingClicker:\n",
    "    \"\"\"A class can/should have a docstring, just like a function\"\"\"\n",
    "    \n",
    "    def __init__(self, count=0):\n",
    "        self.count = count\n",
    "        \n",
    "    def __repr__(self):\n",
    "        return f\"CountingClicker(count={self.count})\"\n",
    "    \n",
    "    # public API\n",
    "    def click(self, num_times=1):\n",
    "        \"\"\"Click the clicker some number of times.\"\"\"\n",
    "        self.count += num_times\n",
    "        \n",
    "    def read(self):\n",
    "        return self.count\n",
    "    \n",
    "    def reset(self):\n",
    "        self.count = 0"
   ]
  },
  {
   "cell_type": "code",
   "execution_count": 16,
   "id": "precise-myanmar",
   "metadata": {},
   "outputs": [],
   "source": [
    "clicker = CountingClicker()\n",
    "assert clicker.read() == 0\n",
    "clicker.click()\n",
    "clicker.click()\n",
    "assert clicker.read() == 2\n",
    "clicker.reset()\n",
    "assert clicker.read() == 0"
   ]
  },
  {
   "cell_type": "code",
   "execution_count": 17,
   "id": "induced-blair",
   "metadata": {},
   "outputs": [],
   "source": [
    "# Subclass\n",
    "class NoResetClicker(CountingClicker):\n",
    "    # This class has all the same methods as CountingClicker\n",
    "    \n",
    "    # Except that it has a reset method that does nothing.\n",
    "    def reset(self):\n",
    "        pass"
   ]
  },
  {
   "cell_type": "code",
   "execution_count": 18,
   "id": "equivalent-expert",
   "metadata": {},
   "outputs": [],
   "source": [
    "clicker2 = NoResetClicker()\n",
    "assert clicker2.read() == 0\n",
    "clicker2.click()\n",
    "assert clicker2.read() == 1\n",
    "clicker2.reset()\n",
    "assert clicker2.read() == 1"
   ]
  },
  {
   "cell_type": "markdown",
   "id": "patient-syria",
   "metadata": {},
   "source": [
    "## Iterables and Generators"
   ]
  },
  {
   "cell_type": "markdown",
   "id": "elect-combat",
   "metadata": {},
   "source": [
    "Generate values lazily on demand."
   ]
  },
  {
   "cell_type": "code",
   "execution_count": 19,
   "id": "extraordinary-typing",
   "metadata": {},
   "outputs": [],
   "source": [
    "def generate_range(n):\n",
    "    i = 0\n",
    "    while i < n:\n",
    "        yield i\n",
    "        i += 1"
   ]
  },
  {
   "cell_type": "code",
   "execution_count": 20,
   "id": "offensive-auction",
   "metadata": {},
   "outputs": [
    {
     "name": "stdout",
     "output_type": "stream",
     "text": [
      "i: 0\n",
      "i: 1\n",
      "i: 2\n",
      "i: 3\n",
      "i: 4\n",
      "i: 5\n",
      "i: 6\n",
      "i: 7\n",
      "i: 8\n",
      "i: 9\n"
     ]
    }
   ],
   "source": [
    "for i in generate_range(10):\n",
    "    print(f'i: {i}')"
   ]
  },
  {
   "cell_type": "markdown",
   "id": "fantastic-delicious",
   "metadata": {},
   "source": [
    "Can only iterate through a generator once. "
   ]
  },
  {
   "cell_type": "code",
   "execution_count": 21,
   "id": "beautiful-brook",
   "metadata": {},
   "outputs": [],
   "source": [
    "# comprehension wrapped in parathenses\n",
    "evens_below_20 = (i for i in generate_range(20) if i % 2 == 0)"
   ]
  },
  {
   "cell_type": "markdown",
   "id": "moral-dylan",
   "metadata": {},
   "source": [
    "## Randomness"
   ]
  },
  {
   "cell_type": "markdown",
   "id": "middle-softball",
   "metadata": {},
   "source": [
    "* `random.shuffle()`\n",
    "* `random.choice()`\n",
    "* `random.seed()`\n",
    "* `random.sample()` # no replacement\n",
    "* for replacement just make multiple calls to choice"
   ]
  },
  {
   "cell_type": "markdown",
   "id": "framed-conservation",
   "metadata": {},
   "source": [
    "## Regular Expressions"
   ]
  },
  {
   "cell_type": "code",
   "execution_count": 22,
   "id": "occupied-steering",
   "metadata": {},
   "outputs": [],
   "source": [
    "import re\n",
    "\n",
    "re_examples = [\n",
    "    not re.match('a', 'cat'), # doesn't start with a\n",
    "    re.search('a', 'cat'),\n",
    "    not re.search('c', 'dog'),\n",
    "    3 == len(re.split('[ab]', 'carbs')),\n",
    "    'R-D-' == re.sub('[0-9]', '-', 'R2D2')\n",
    "]\n",
    "\n",
    "assert all(re_examples)"
   ]
  },
  {
   "cell_type": "markdown",
   "id": "stretch-symposium",
   "metadata": {},
   "source": [
    "Remember `re.match` checks whether the *beginning* of a string matches a regular express, while `re.search` checks whether *any* part of a string matches a regular expression."
   ]
  },
  {
   "cell_type": "markdown",
   "id": "every-metadata",
   "metadata": {},
   "source": [
    "## Typing"
   ]
  },
  {
   "cell_type": "code",
   "execution_count": 23,
   "id": "eleven-company",
   "metadata": {},
   "outputs": [],
   "source": [
    "from typing import List, Optional, Dict, Iterable, Tuple\n",
    "\n",
    "def total(xs: List[float]) -> float:\n",
    "    return sum(xs)\n",
    "\n",
    "values: List[int] = []\n",
    "best_so_far: Optional[float] = None # allowed to be either a float or None"
   ]
  },
  {
   "cell_type": "code",
   "execution_count": 24,
   "id": "prime-details",
   "metadata": {},
   "outputs": [],
   "source": [
    "# keys are strings, values are ints\n",
    "counts: Dict[str, int] = {'data': 1, 'science': 2}\n",
    "\n",
    "# lists are generators are both iterable\n",
    "lazy = True\n",
    "if lazy:\n",
    "    evens: Iterable[int] = (x for x in range(10) if x % 2 == 0)\n",
    "else:\n",
    "    events = [0, 2, 4, 6, 8]\n",
    "\n",
    "# tuples specify a type for each element\n",
    "triple: Tuple[int, float, int] = (10, 2.3, 5)"
   ]
  },
  {
   "cell_type": "code",
   "execution_count": 25,
   "id": "speaking-passing",
   "metadata": {},
   "outputs": [],
   "source": [
    "# For functions\n",
    "from typing import Callable\n",
    "\n",
    "def twice(repeater: Callable[[str, int], str], s: str) -> str:\n",
    "    return repeater(s, 2)\n",
    "\n",
    "def comma_repeater(s: str, n: int) -> str:\n",
    "    n_copies = [s for _ in range(n)]\n",
    "    return ', '.join(n_copies)\n",
    "\n",
    "assert twice(comma_repeater, \"type hints\") == \"type hints, type hints\""
   ]
  },
  {
   "cell_type": "code",
   "execution_count": null,
   "id": "shaped-province",
   "metadata": {
    "pycharm": {
     "name": "#%%\n"
    }
   },
   "outputs": [],
   "source": [
    "# Type annotations are just Python objects\n",
    "# Can assign them to variables\n",
    "Number = int\n",
    "Numbers = List[Number]\n",
    "\n",
    "def total(xs: Numbers) -> Number:\n",
    "    return sum(xs)"
   ]
  }
 ],
 "metadata": {
  "kernelspec": {
   "display_name": "Python 3",
   "language": "python",
   "name": "python3"
  },
  "language_info": {
   "codemirror_mode": {
    "name": "ipython",
    "version": 3
   },
   "file_extension": ".py",
   "mimetype": "text/x-python",
   "name": "python",
   "nbconvert_exporter": "python",
   "pygments_lexer": "ipython3",
   "version": "3.8.5"
  }
 },
 "nbformat": 4,
 "nbformat_minor": 5
}
